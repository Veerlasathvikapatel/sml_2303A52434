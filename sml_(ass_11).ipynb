{
  "cells": [
    {
      "cell_type": "markdown",
      "metadata": {
        "id": "view-in-github",
        "colab_type": "text"
      },
      "source": [
        "<a href=\"https://colab.research.google.com/github/Veerlasathvikapatel/sml_2303A52434/blob/main/sml_(ass_11).ipynb\" target=\"_parent\"><img src=\"https://colab.research.google.com/assets/colab-badge.svg\" alt=\"Open In Colab\"/></a>"
      ]
    },
    {
      "cell_type": "code",
      "source": [
        "from google.colab import drive\n",
        "drive.mount('/content/drive')"
      ],
      "metadata": {
        "id": "bEJu5l94Aql6",
        "outputId": "bdfd60fa-f165-4e2a-ad3c-a64b9325f57d",
        "colab": {
          "base_uri": "https://localhost:8080/"
        }
      },
      "execution_count": null,
      "outputs": [
        {
          "output_type": "stream",
          "name": "stdout",
          "text": [
            "Mounted at /content/drive\n"
          ]
        }
      ]
    },
    {
      "cell_type": "code",
      "source": [
        "import pandas as pd\n",
        "\n",
        "file_path = \"/content/drive/MyDrive/archive.zip\"\n",
        "data = pd.read_csv(file_path)\n",
        "\n",
        "data.head(), data.info()\n"
      ],
      "metadata": {
        "id": "0ZVsHHQiA9qn",
        "outputId": "babc75eb-756e-4b81-f03c-05a18085464c",
        "colab": {
          "base_uri": "https://localhost:8080/"
        }
      },
      "execution_count": null,
      "outputs": [
        {
          "output_type": "stream",
          "name": "stdout",
          "text": [
            "<class 'pandas.core.frame.DataFrame'>\n",
            "RangeIndex: 334 entries, 0 to 333\n",
            "Data columns (total 15 columns):\n",
            " #   Column              Non-Null Count  Dtype  \n",
            "---  ------              --------------  -----  \n",
            " 0   Age                 334 non-null    int64  \n",
            " 1   Gender              334 non-null    object \n",
            " 2   Protein1            334 non-null    float64\n",
            " 3   Protein2            334 non-null    float64\n",
            " 4   Protein3            334 non-null    float64\n",
            " 5   Protein4            334 non-null    float64\n",
            " 6   Tumour_Stage        334 non-null    object \n",
            " 7   Histology           334 non-null    object \n",
            " 8   ER status           334 non-null    object \n",
            " 9   PR status           334 non-null    object \n",
            " 10  HER2 status         334 non-null    object \n",
            " 11  Surgery_type        334 non-null    object \n",
            " 12  Date_of_Surgery     334 non-null    object \n",
            " 13  Date_of_Last_Visit  317 non-null    object \n",
            " 14  Patient_Status      321 non-null    object \n",
            "dtypes: float64(4), int64(1), object(10)\n",
            "memory usage: 39.3+ KB\n"
          ]
        },
        {
          "output_type": "execute_result",
          "data": {
            "text/plain": [
              "(   Age  Gender  Protein1  Protein2  Protein3  Protein4 Tumour_Stage  \\\n",
              " 0   42  FEMALE   0.95256   2.15000  0.007972 -0.048340           II   \n",
              " 1   54  FEMALE   0.00000   1.38020 -0.498030 -0.507320           II   \n",
              " 2   63  FEMALE  -0.52303   1.76400 -0.370190  0.010815           II   \n",
              " 3   78  FEMALE  -0.87618   0.12943 -0.370380  0.132190            I   \n",
              " 4   42  FEMALE   0.22611   1.74910 -0.543970 -0.390210           II   \n",
              " \n",
              "                        Histology ER status PR status HER2 status Surgery_type  \\\n",
              " 0  Infiltrating Ductal Carcinoma  Positive  Positive    Negative        Other   \n",
              " 1  Infiltrating Ductal Carcinoma  Positive  Positive    Negative        Other   \n",
              " 2  Infiltrating Ductal Carcinoma  Positive  Positive    Negative   Lumpectomy   \n",
              " 3  Infiltrating Ductal Carcinoma  Positive  Positive    Negative        Other   \n",
              " 4  Infiltrating Ductal Carcinoma  Positive  Positive    Positive   Lumpectomy   \n",
              " \n",
              "   Date_of_Surgery Date_of_Last_Visit Patient_Status  \n",
              " 0       20-May-18          26-Aug-18          Alive  \n",
              " 1       26-Apr-18          25-Jan-19           Dead  \n",
              " 2       24-Aug-18          08-Apr-20          Alive  \n",
              " 3       16-Nov-18          28-Jul-20          Alive  \n",
              " 4       12-Dec-18          05-Jan-19          Alive  ,\n",
              " None)"
            ]
          },
          "metadata": {},
          "execution_count": 2
        }
      ]
    },
    {
      "cell_type": "code",
      "source": [
        "import pandas as pd\n",
        "from sklearn.model_selection import train_test_split\n",
        "from sklearn.preprocessing import LabelEncoder, StandardScaler\n",
        "\n",
        "\n",
        "file_path = \"/content/drive/MyDrive/archive.zip\"\n",
        "data = pd.read_csv(file_path)\n",
        "\n",
        "data_cleaned = data.drop(columns=[\"Date_of_Surgery\", \"Date_of_Last_Visit\"])\n",
        "data_cleaned = data_cleaned.dropna(subset=[\"Patient_Status\"])\n",
        "\n",
        "label_encoders = {}\n",
        "categorical_columns = [\"Gender\", \"Tumour_Stage\", \"Histology\",\n",
        "                       \"ER status\", \"PR status\", \"HER2 status\", \"Surgery_type\", \"Patient_Status\"]\n",
        "\n",
        "for column in categorical_columns:\n",
        "    le = LabelEncoder()\n",
        "    data_cleaned[column] = le.fit_transform(data_cleaned[column])\n",
        "    label_encoders[column] = le\n",
        "\n",
        "\n",
        "X = data_cleaned.drop(columns=[\"Patient_Status\"])\n",
        "y = data_cleaned[\"Patient_Status\"]\n",
        "\n",
        "scaler = StandardScaler()\n",
        "X_scaled = scaler.fit_transform(X)\n",
        "\n",
        "X_train, X_test, y_train, y_test = train_test_split(X_scaled, y, test_size=0.3, random_state=42)\n"
      ],
      "metadata": {
        "id": "sYKMAfNdBP7Y"
      },
      "execution_count": null,
      "outputs": []
    },
    {
      "cell_type": "code",
      "source": [
        "from sklearn.svm import SVC\n",
        "from sklearn.metrics import accuracy_score\n",
        "svm_model = SVC(random_state=42)\n",
        "svm_model.fit(X_train, y_train)\n",
        "\n",
        "\n",
        "svm_predictions = svm_model.predict(X_test)\n",
        "svm_accuracy = accuracy_score(y_test, svm_predictions)\n",
        "\n",
        "print(f\"SVM Accuracy: {svm_accuracy:.2f}\")"
      ],
      "metadata": {
        "id": "lgBbFd9bBZbU",
        "outputId": "7d2de7a9-7548-4373-f155-5150a808b4bf",
        "colab": {
          "base_uri": "https://localhost:8080/"
        }
      },
      "execution_count": null,
      "outputs": [
        {
          "output_type": "stream",
          "name": "stdout",
          "text": [
            "SVM Accuracy: 0.75\n"
          ]
        }
      ]
    },
    {
      "cell_type": "code",
      "source": [
        "from sklearn.neighbors import KNeighborsClassifier\n",
        "\n",
        "\n",
        "knn_model = KNeighborsClassifier()\n",
        "knn_model.fit(X_train, y_train)\n",
        "\n",
        "knn_predictions = knn_model.predict(X_test)\n",
        "knn_accuracy = accuracy_score(y_test, knn_predictions)\n",
        "\n",
        "print(f\"KNN Accuracy: {knn_accuracy:.2f}\")\n"
      ],
      "metadata": {
        "id": "Hz95cQ97Bc0Z",
        "outputId": "e72e89ae-eeec-4dba-adfe-306887b8485b",
        "colab": {
          "base_uri": "https://localhost:8080/"
        }
      },
      "execution_count": null,
      "outputs": [
        {
          "output_type": "stream",
          "name": "stdout",
          "text": [
            "KNN Accuracy: 0.72\n"
          ]
        }
      ]
    },
    {
      "cell_type": "code",
      "source": [
        "from sklearn.linear_model import LogisticRegression\n",
        "\n",
        "log_reg_model = LogisticRegression(random_state=42, max_iter=1000)\n",
        "log_reg_model.fit(X_train, y_train)\n",
        "\n",
        "log_reg_predictions = log_reg_model.predict(X_test)\n",
        "log_reg_accuracy = accuracy_score(y_test, log_reg_predictions)\n",
        "\n",
        "print(f\"Logistic Regression Accuracy: {log_reg_accuracy:.2f}\")"
      ],
      "metadata": {
        "id": "8mXWenwDBiQ3",
        "outputId": "16075f28-2a96-4368-e3c0-3ef10b16ee3d",
        "colab": {
          "base_uri": "https://localhost:8080/"
        }
      },
      "execution_count": null,
      "outputs": [
        {
          "output_type": "stream",
          "name": "stdout",
          "text": [
            "Logistic Regression Accuracy: 0.75\n"
          ]
        }
      ]
    },
    {
      "cell_type": "code",
      "source": [
        "from sklearn.decomposition import PCA\n",
        "\n",
        "pca = PCA(n_components=5)\n",
        "X_train_pca = pca.fit_transform(X_train)\n",
        "X_test_pca = pca.transform(X_test)\n",
        "\n",
        "def train_and_evaluate(model, X_train, X_test, y_train, y_test):\n",
        "    model.fit(X_train, y_train)\n",
        "    predictions = model.predict(X_test)\n",
        "    accuracy = accuracy_score(y_test, predictions)\n",
        "    return accuracy\n",
        "\n",
        "svm_model_pca = SVC(random_state=42)\n",
        "knn_model_pca = KNeighborsClassifier()\n",
        "log_reg_model_pca = LogisticRegression(random_state=42, max_iter=1000)\n",
        "\n",
        "\n",
        "svm_pca_accuracy = train_and_evaluate(svm_model_pca, X_train_pca, X_test_pca, y_train, y_test)\n",
        "knn_pca_accuracy = train_and_evaluate(knn_model_pca, X_train_pca, X_test_pca, y_train, y_test)\n",
        "log_reg_pca_accuracy = train_and_evaluate(log_reg_model_pca, X_train_pca, X_test_pca, y_train, y_test)\n",
        "\n",
        "print(f\"SVM with PCA Accuracy: {svm_pca_accuracy:.2f}\")\n",
        "print(f\"KNN with PCA Accuracy: {knn_pca_accuracy:.2f}\")\n",
        "print(f\"Logistic Regression with PCA Accuracy: {log_reg_pca_accuracy:.2f}\")"
      ],
      "metadata": {
        "id": "7PRy_V4OBmWu",
        "outputId": "dffa4292-78d8-4c69-ca78-1084f825d300",
        "colab": {
          "base_uri": "https://localhost:8080/"
        }
      },
      "execution_count": null,
      "outputs": [
        {
          "output_type": "stream",
          "name": "stdout",
          "text": [
            "SVM with PCA Accuracy: 0.75\n",
            "KNN with PCA Accuracy: 0.72\n",
            "Logistic Regression with PCA Accuracy: 0.75\n"
          ]
        }
      ]
    }
  ],
  "metadata": {
    "colab": {
      "provenance": [],
      "include_colab_link": true
    },
    "kernelspec": {
      "display_name": "Python 3",
      "name": "python3"
    }
  },
  "nbformat": 4,
  "nbformat_minor": 0
}